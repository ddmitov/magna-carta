{
  "nbformat": 4,
  "nbformat_minor": 0,
  "metadata": {
    "colab": {
      "provenance": []
    },
    "kernelspec": {
      "name": "python3",
      "display_name": "Python 3"
    },
    "language_info": {
      "name": "python"
    }
  },
  "cells": [
    {
      "cell_type": "code",
      "source": [
        "import re\n",
        "import warnings\n",
        "\n",
        "import nltk\n",
        "from nltk.tokenize import sent_tokenize, word_tokenize\n",
        "from nltk.text import Text\n",
        "\n",
        "import requests\n",
        "\n",
        "nltk.download('punkt')\n",
        "nltk.download('stopwords')\n",
        "\n",
        "warnings.filterwarnings('ignore', 'This pattern has match groups')"
      ],
      "metadata": {
        "id": "SJsOAG7B1YsL",
        "colab": {
          "base_uri": "https://localhost:8080/"
        },
        "outputId": "33b454aa-aaeb-4bfb-e035-e4379101142e"
      },
      "execution_count": null,
      "outputs": [
        {
          "output_type": "stream",
          "name": "stderr",
          "text": [
            "[nltk_data] Downloading package punkt to /root/nltk_data...\n",
            "[nltk_data]   Unzipping tokenizers/punkt.zip.\n",
            "[nltk_data] Downloading package stopwords to /root/nltk_data...\n",
            "[nltk_data]   Unzipping corpora/stopwords.zip.\n"
          ]
        }
      ]
    },
    {
      "cell_type": "code",
      "source": [
        "# Get and prepare the text of Magna Carta:\n",
        "magna_carta_response = requests.get(\n",
        "  'https://raw.githubusercontent.com/' +\n",
        "  'ddmitov/magna-carta/master/magna-carta.txt'\n",
        ")\n",
        "magna_carta_text = magna_carta_response.text\n",
        "\n",
        "# Prepare a dictionary with the number and the text of all articles\n",
        "# for labeling of the concordance lines:\n",
        "magna_carta_articles_list = magna_carta_text.split('\\n\\n')\n",
        "\n",
        "magna_carta_articles_dict = {}\n",
        "article_number = 0\n",
        "\n",
        "for article in magna_carta_articles_list:\n",
        "  article = article.replace('\\n', '')\n",
        "\n",
        "  if len(article) > 0:\n",
        "    magna_carta_articles_dict[str(article_number).zfill(2)] = article\n",
        "    article_number += 1\n",
        "\n",
        "# Split the Magna Carta text in sentences and word forms (tokens):\n",
        "magna_carta_forms_list = \\\n",
        "  [word_tokenize(sentence) for sentence in sent_tokenize(magna_carta_text)]"
      ],
      "metadata": {
        "id": "OktpKuIJ1SU3"
      },
      "execution_count": null,
      "outputs": []
    },
    {
      "cell_type": "code",
      "source": [
        "#############################\n",
        "#### CONCORDANCE KEYWORD ####\n",
        "#############################\n",
        "\n",
        "concordance_keyword_nominative_form = 'plena'\n",
        "concordance_keyword_root_form = 'plen'\n",
        "\n",
        "#############################\n",
        "#### CONCORDANCE KEYWORD ####\n",
        "#############################"
      ],
      "metadata": {
        "id": "C8TTh89YKaKv"
      },
      "execution_count": null,
      "outputs": []
    },
    {
      "cell_type": "code",
      "source": [
        "# Get all available forms:\n",
        "selected_forms_set = set()\n",
        "\n",
        "for sentence in magna_carta_forms_list:\n",
        "  for form in sentence:\n",
        "    if re.match(\n",
        "      '(^' + concordance_keyword_nominative_form + '$)' +\n",
        "      '|' + \n",
        "      '(^' + concordance_keyword_root_form + '.{1,4})',\n",
        "      form\n",
        "    ):\n",
        "      selected_forms_set.add(form)\n",
        "\n",
        "selected_forms_sorted_list = sorted(selected_forms_set)\n",
        "\n",
        "print('Available forms:', selected_forms_sorted_list)"
      ],
      "metadata": {
        "colab": {
          "base_uri": "https://localhost:8080/"
        },
        "id": "I-qX89LEzgEv",
        "outputId": "c64b20e0-4d6e-4109-eee4-6ab4e3b218c2"
      },
      "execution_count": null,
      "outputs": [
        {
          "output_type": "stream",
          "name": "stdout",
          "text": [
            "Available forms: ['plenam', 'plene']\n"
          ]
        }
      ]
    },
    {
      "cell_type": "code",
      "source": [
        "# Get a concordance of the selected word:\n",
        "magna_carta_concordance_text = Text(word_tokenize(magna_carta_text))\n",
        "\n",
        "for form in selected_forms_sorted_list:\n",
        "  concordance_list = magna_carta_concordance_text.concordance_list(form)\n",
        "\n",
        "  for concordance_line in concordance_list:\n",
        "    concordance_line_string = str(concordance_line.line)\n",
        "\n",
        "    for article_number, article_text in magna_carta_articles_dict.items():\n",
        "      formatted_concordance_line = concordance_line_string\n",
        "      formatted_concordance_line = \\\n",
        "        formatted_concordance_line.replace(' . ', '. ')\n",
        "      formatted_concordance_line = \\\n",
        "        formatted_concordance_line.replace(' , ', ', ')\n",
        "      formatted_concordance_line = \\\n",
        "        formatted_concordance_line.replace(' ; ', '; ')\n",
        "\n",
        "      if formatted_concordance_line in article_text:\n",
        "        print(\n",
        "            str(article_number) +\n",
        "            '. ' +\n",
        "            concordance_line_string\n",
        "        )\n",
        "\n",
        "  print()"
      ],
      "metadata": {
        "colab": {
          "base_uri": "https://localhost:8080/"
        },
        "id": "8xk4XZ-343s7",
        "outputId": "ec228435-1734-40de-ac7b-0b9e6187f34d"
      },
      "execution_count": null,
      "outputs": [
        {
          "output_type": "stream",
          "name": "stdout",
          "text": [
            "05. ejusdem ; et reddat heredi , cum ad plenam etatem pervenerit , terram suam tot\n",
            "57. grinatione nostra , statim eis inde plenam justitiam exhibebimus , secundum le\n",
            "\n",
            "02. uerit , et cum decesserit heres suus plene etatis fuerit et relevium debeat , h\n",
            "62. os et laicos , a tempore discordie , plene omnibus remisimus et condonavimus . \n",
            "62. todecimo usque ad pacem reformatam , plene remisimus omnibus , clericis et laic\n",
            "62.  laicis , et quantum ad nos pertinet plene condonavimus . Et insuper fecimus ei\n",
            "\n"
          ]
        }
      ]
    }
  ]
}