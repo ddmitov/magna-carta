{
  "nbformat": 4,
  "nbformat_minor": 0,
  "metadata": {
    "colab": {
      "provenance": []
    },
    "kernelspec": {
      "name": "python3",
      "display_name": "Python 3"
    },
    "language_info": {
      "name": "python"
    }
  },
  "cells": [
    {
      "cell_type": "code",
      "source": [
        "import re\n",
        "import warnings\n",
        "\n",
        "import nltk\n",
        "from nltk.tokenize import sent_tokenize, word_tokenize\n",
        "from nltk.text import Text\n",
        "\n",
        "import requests\n",
        "\n",
        "nltk.download('punkt')\n",
        "nltk.download('stopwords')\n",
        "\n",
        "warnings.filterwarnings('ignore', 'This pattern has match groups')"
      ],
      "metadata": {
        "id": "SJsOAG7B1YsL",
        "colab": {
          "base_uri": "https://localhost:8080/"
        },
        "outputId": "f5703b3a-66f9-4144-bde2-4d69f1010a71"
      },
      "execution_count": null,
      "outputs": [
        {
          "output_type": "stream",
          "name": "stderr",
          "text": [
            "[nltk_data] Downloading package punkt to /root/nltk_data...\n",
            "[nltk_data]   Package punkt is already up-to-date!\n",
            "[nltk_data] Downloading package stopwords to /root/nltk_data...\n",
            "[nltk_data]   Package stopwords is already up-to-date!\n"
          ]
        }
      ]
    },
    {
      "cell_type": "code",
      "source": [
        "# Get and prepare the text of Magna Carta:\n",
        "magna_carta_response = requests.get(\n",
        "  'https://raw.githubusercontent.com/' +\n",
        "  'ddmitov/magna-carta/master/tool/magna-carta.txt'\n",
        ")\n",
        "magna_carta_text = magna_carta_response.text\n",
        "\n",
        "# Prepare a dictionary with the number and the text of all articles\n",
        "# for labeling of the concordance lines:\n",
        "magna_carta_articles_list = magna_carta_text.split('\\n\\n')\n",
        "\n",
        "magna_carta_articles_dict = {}\n",
        "article_number = 0\n",
        "\n",
        "for article in magna_carta_articles_list:\n",
        "  article = article.replace('\\n', '')\n",
        "\n",
        "  if len(article) > 0:\n",
        "    magna_carta_articles_dict[str(article_number).zfill(2)] = article\n",
        "    article_number += 1\n",
        "\n",
        "# Split the Magna Carta text in sentences and word forms (tokens):\n",
        "magna_carta_forms_list = \\\n",
        "  [word_tokenize(sentence) for sentence in sent_tokenize(magna_carta_text)]"
      ],
      "metadata": {
        "id": "OktpKuIJ1SU3"
      },
      "execution_count": null,
      "outputs": []
    },
    {
      "cell_type": "code",
      "source": [
        "### CONCORDANCE KEYWORD ####\n",
        "\n",
        "concordance_keyword_nominative_form = 'rex'\n",
        "concordance_keyword_root_form = 'reg'\n",
        "\n",
        "### CONCORDANCE KEYWORD ####"
      ],
      "metadata": {
        "id": "C8TTh89YKaKv"
      },
      "execution_count": null,
      "outputs": []
    },
    {
      "cell_type": "code",
      "source": [
        "# Get all available forms:\n",
        "selected_forms_set = set()\n",
        "\n",
        "for sentence in magna_carta_forms_list:\n",
        "  for form in sentence:\n",
        "    if re.match(\n",
        "      '(^' + concordance_keyword_nominative_form + '$)' +\n",
        "      '|' + \n",
        "      '(^' + concordance_keyword_root_form + '.{1,3})',\n",
        "      form\n",
        "    ):\n",
        "      selected_forms_set.add(form)\n",
        "\n",
        "selected_forms_sorted_list = sorted(selected_forms_set)\n",
        "\n",
        "print('Available forms:', selected_forms_sorted_list)"
      ],
      "metadata": {
        "colab": {
          "base_uri": "https://localhost:8080/"
        },
        "id": "I-qX89LEzgEv",
        "outputId": "21a587d6-ba34-4e3e-d2f1-d065bce62e51"
      },
      "execution_count": null,
      "outputs": [
        {
          "output_type": "stream",
          "name": "stdout",
          "text": [
            "Available forms: ['rege', 'regem', 'regi', 'regine', 'regni', 'regno', 'regnum', 'regum', 'rex']\n"
          ]
        }
      ]
    },
    {
      "cell_type": "code",
      "source": [
        "# Get a concordance of the selected word:\n",
        "magna_carta_concordance_text = Text(word_tokenize(magna_carta_text))\n",
        "\n",
        "for form in selected_forms_sorted_list:\n",
        "  concordance_list = magna_carta_concordance_text.concordance_list(form)\n",
        "\n",
        "  for concordance_line in concordance_list:\n",
        "    concordance_line_string = str(concordance_line.line)\n",
        "\n",
        "    for article_number, article_text in magna_carta_articles_dict.items():\n",
        "      formatted_concordance_line = concordance_line_string\n",
        "      formatted_concordance_line = \\\n",
        "        formatted_concordance_line.replace(' . ', '. ')\n",
        "      formatted_concordance_line = \\\n",
        "        formatted_concordance_line.replace(' , ', ', ')\n",
        "      formatted_concordance_line = \\\n",
        "        formatted_concordance_line.replace(' ; ', '; ')\n",
        "\n",
        "      if formatted_concordance_line in article_text:\n",
        "        print(\n",
        "            str(article_number) +\n",
        "            '. ' +\n",
        "            concordance_line_string\n",
        "        )\n",
        "\n",
        "  print()"
      ],
      "metadata": {
        "colab": {
          "base_uri": "https://localhost:8080/"
        },
        "id": "8xk4XZ-343s7",
        "outputId": "41c02025-9a24-424b-fd31-b18d83082130"
      },
      "execution_count": null,
      "outputs": [
        {
          "output_type": "stream",
          "name": "stdout",
          "text": [
            "59. s de Willelmo patre ipsius , quondam rege Scottorum ; et hoc erit per judicium\n",
            "\n",
            "52. judicio parium suorum , per Henricum regem patrem nostrum vel per Ricardum rege\n",
            "52. egem patrem nostrum vel per Ricardum regem fratrem nostrum , que in manu nostra\n",
            "57. judicio parium suorum , per Henricum regem patrem nostrum vel Ricardum regem fr\n",
            "57. um regem patrem nostrum vel Ricardum regem fratrem nostrum , que nos in manu no\n",
            "\n",
            "00. em sancte Ecclesie , et emendacionem regi nostri , per consilium venerabilium \n",
            "\n",
            "61. ium eorum , salva persona nostra et regine nostre et liberorum nostrorum ; et \n",
            "\n",
            "01. imus eciam omnibus liberis hominibus regni nostri , pro nobis et heredibus nost\n",
            "12.  nostro , nisi per commune consilium regni nostri , nisi ad corpus nostrum redi\n",
            "14. 4 . Et ad habendum commune consilium regni de auxilio assidendo aliter quam in \n",
            "42. tempus , propter communem utilitatem regni , exceptis imprisonatis et utlagatis\n",
            "42. isonatis et utlagatis secundum legem regni , et gente de terra contra nos gwerr\n",
            "61. m autem pro Deo , et ad emendacionem regni nostri , et ad melius sopiendum disc\n",
            "62. ne ejusdem discordie , a Pascha anno regni nostri sextodecimo usque ad pacem re\n",
            "\n",
            "12. um scutagium vel auxilium ponatur in regno nostro , nisi per commune consilium \n",
            "42. . Liceat unicuique decetero exire de regno nostro , et redire , salvo et secure\n",
            "51. st pacis reformacionem amovebimus de regno omnes alienigenas milites , balistar\n",
            "60. t libertates quas nos concessimus in regno nostro tenendas quantum ad nos perti\n",
            "60. nos pertinet erga nostros , omnes de regno nostro , tam clerici quam laici , ob\n",
            "61. s eligant viginti quinque barones de regno quos voluerint , qui debeant pro tot\n",
            "63. clesia libera sit et quod homines in regno nostro habeant et teneant omnes pref\n",
            "\n",
            "61. ciarium nostrum , si fuerimus extra regnum , proponentes nobis excessum ; pete\n",
            "61. daverimus , vel , si fuerimus extra regnum , justiciarius noster non emendaver\n",
            "61. s vel justiciario nostro , si extra regnum fuerimus , predicti quatuor barones\n",
            "\n",
            "46. verunt abbacias , unde habent cartas regum Anglie , vel antiquam tenuram , habe\n",
            "\n",
            "00. Johannes Dei gracia rex Anglie , Dominus Hibernie , dux Norma\n",
            "\n"
          ]
        }
      ]
    }
  ]
}