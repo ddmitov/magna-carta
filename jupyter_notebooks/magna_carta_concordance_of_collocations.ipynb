{
  "nbformat": 4,
  "nbformat_minor": 0,
  "metadata": {
    "colab": {
      "provenance": []
    },
    "kernelspec": {
      "name": "python3",
      "display_name": "Python 3"
    },
    "language_info": {
      "name": "python"
    }
  },
  "cells": [
    {
      "cell_type": "code",
      "source": [
        "import nltk\n",
        "from nltk.tokenize import sent_tokenize, word_tokenize\n",
        "from nltk.text import Text\n",
        "\n",
        "import requests\n",
        "\n",
        "nltk.download('punkt')\n",
        "nltk.download('stopwords')"
      ],
      "metadata": {
        "id": "SJsOAG7B1YsL",
        "colab": {
          "base_uri": "https://localhost:8080/"
        },
        "outputId": "5609e2fc-dad1-42e8-e312-0001dd3ca426"
      },
      "execution_count": null,
      "outputs": [
        {
          "output_type": "stream",
          "name": "stderr",
          "text": [
            "[nltk_data] Downloading package punkt to /root/nltk_data...\n",
            "[nltk_data]   Unzipping tokenizers/punkt.zip.\n",
            "[nltk_data] Downloading package stopwords to /root/nltk_data...\n",
            "[nltk_data]   Unzipping corpora/stopwords.zip.\n"
          ]
        },
        {
          "output_type": "execute_result",
          "data": {
            "text/plain": [
              "True"
            ]
          },
          "metadata": {},
          "execution_count": 1
        }
      ]
    },
    {
      "cell_type": "code",
      "source": [
        "# Get and prepare the text of Magna Carta:\n",
        "magna_carta_response = requests.get(\n",
        "  'https://raw.githubusercontent.com/' +\n",
        "  'ddmitov/magna-carta/master/magna-carta.txt'\n",
        ")\n",
        "magna_carta_text = magna_carta_response.text\n",
        "\n",
        "# Prepare a dictionary with the number and the text of all articles\n",
        "# for labeling of the concordance results:\n",
        "magna_carta_articles_list = magna_carta_text.split('\\n\\n')\n",
        "\n",
        "magna_carta_articles_dict = {}\n",
        "article_number = 0\n",
        "\n",
        "for article in magna_carta_articles_list:\n",
        "  article = article.replace('\\n', '')\n",
        "\n",
        "  if len(article) > 0:\n",
        "    magna_carta_articles_dict[str(article_number).zfill(2)] = article\n",
        "    article_number += 1"
      ],
      "metadata": {
        "id": "re_5NBlsfrH8"
      },
      "execution_count": null,
      "outputs": []
    },
    {
      "cell_type": "code",
      "source": [
        "# Get a concordance of all repeated phrases (collocations):\n",
        "magna_carta_nltk_text = Text(word_tokenize(magna_carta_text))\n",
        "collocations = magna_carta_nltk_text.collocation_list()\n",
        "\n",
        "for collocation in collocations:\n",
        "  collocation_list = list(collocation)\n",
        "\n",
        "  collocation_concordance_list = \\\n",
        "    magna_carta_nltk_text.concordance_list(collocation_list)\n",
        "\n",
        "  for concordance_line in collocation_concordance_list:\n",
        "    concordance_line_string = str(concordance_line.line)\n",
        "\n",
        "    for article_number, article_text in magna_carta_articles_dict.items():\n",
        "      formatted_concordance_line = concordance_line_string\n",
        "      formatted_concordance_line = \\\n",
        "        formatted_concordance_line.replace(' . ', '. ')\n",
        "      formatted_concordance_line = \\\n",
        "        formatted_concordance_line.replace(' , ', ', ')\n",
        "      formatted_concordance_line = \\\n",
        "        formatted_concordance_line.replace(' ; ', '; ')\n",
        "\n",
        "      if formatted_concordance_line in article_text:\n",
        "        print(\n",
        "            str(article_number) +\n",
        "            '. ' +\n",
        "            concordance_line_string\n",
        "        )\n",
        "\n",
        "  print()"
      ],
      "metadata": {
        "colab": {
          "base_uri": "https://localhost:8080/"
        },
        "id": "ALUf0Smg-JbD",
        "outputId": "499404d1-c7f0-4a21-b357-7ca247eef21f"
      },
      "execution_count": null,
      "outputs": [
        {
          "output_type": "stream",
          "name": "stdout",
          "text": [
            "52. t , tunc inde fiat per judicium viginti quinque baronum , de quibus fit mencio \n",
            "55. ur , vel fiat inde per judicium viginti quinque baronum de quibus fit mencio in\n",
            "55. aliquis vel aliqui de predictis viginti quinque baronibus fuerint in simili que\n",
            "55. co eorum per residuos de eisdem viginti quinque , tantum ad hoc faciendum elect\n",
            "61.  videlicet quod barones eligant viginti quinque barones de regno quos voluerint\n",
            "61.  quatuor baronibus de predictis viginti quinque baronibus , illi quatuor barone\n",
            "61. usam illam ad residuos de illis viginti quinque baronibus , et illi viginti qui\n",
            "61. nti quinque baronibus , et illi viginti quinque barones cum communia tocius ter\n",
            "61. da parebit mandatis predictorum viginti quinque baronum , et quod gravabit nos \n",
            "61.  et sponte sua noluerint jurare viginti quinque baronibus de distringendo et gr\n",
            "61. redictum est . Et si aliquis de viginti quinque baronibus decesserit , vel a te\n",
            "61. ui residui fuerint de predictis viginti quinque baronibus eligant alium loco ip\n",
            "61. ri . In omnibus autem que istis viginti quinque baronibus committuntur exequend\n",
            "61. untur exequenda , si forte ipsi viginti quinque presentes fuerint , et inter se\n",
            "61. it , vel preceperit ac si omnes viginti quinque in hoc consensissent ; et predi\n",
            "61. hoc consensissent ; et predicti viginti quinque jurent quod omnia antedicta fid\n",
            "\n",
            "52. atus per nos sine legali judicio parium suorum , de terris , castellis , libert\n",
            "52. el elongatus sine legali judicio parium suorum , per Henricum regem patrem nost\n",
            "56. ebus aliis , sine legali judicio parium suorum , in Anglia vel in Wallia , eis \n",
            "56. nde fiat in Marchia per judicium parium suorum ; de tenementis Anglie secundum \n",
            "57.  elongatus , sine legali judicio parium suorum , per Henricum regem patrem nost\n",
            "\n",
            "55. el aliqui de predictis viginti quinque baronibus fuerint in simili querela , am\n",
            "61. baronibus de predictis viginti quinque baronibus , illi quatuor barones accedan\n",
            "61. m ad residuos de illis viginti quinque baronibus , et illi viginti quinque baro\n",
            "61. e sua noluerint jurare viginti quinque baronibus de distringendo et gravando no\n",
            "61. est . Et si aliquis de viginti quinque baronibus decesserit , vel a terra reces\n",
            "61. i fuerint de predictis viginti quinque baronibus eligant alium loco ipsius , pr\n",
            "61. mnibus autem que istis viginti quinque baronibus committuntur exequenda , si fo\n",
            "\n",
            "02. encium de nobis in capite per servicium militare , mortuus fuerit , et cum dec\n",
            "37.  et de alio terram teneat per servicium militare , nos non habebimus custodiam\n",
            "37. , nisi ipsa feodifirma debeat servicium militare . Nos non habebimus custodiam\n",
            "37. ujus , quam tenet de alio per servicium militare , occasione alicujus parve se\n",
            "53. d aliquis de nobis tenuit per servicium militare , et de abbaciis que fundate \n",
            "\n",
            "52. itus vel elongatus per nos sine legali judicio parium suorum , de terris , cas\n",
            "52. situs fuerit vel elongatus sine legali judicio parium suorum , per Henricum re\n",
            "56. rtatibus vel rebus aliis , sine legali judicio parium suorum , in Anglia vel i\n",
            "57. tus fuerit vel elongatus , sine legali judicio parium suorum , per Henricum re\n",
            "\n",
            "61. e eosdem de mandato nostro sicut predictum est . Et si aliquis de viginti quinq\n",
            "63.  et locis , in perpetuum , sicut predictum est . Juratum est autem tam ex parte\n",
            "\n",
            "52. uerit vel elongatus sine legali judicio parium suorum , per Henricum regem pat\n",
            "56. s vel rebus aliis , sine legali judicio parium suorum , in Anglia vel in Walli\n",
            "57. rit vel elongatus , sine legali judicio parium suorum , per Henricum regem pat\n",
            "\n",
            "61. jurare eosdem de mandato nostro sicut predictum est . Et si aliquis de viginti \n",
            "63. rebus et locis , in perpetuum , sicut predictum est . Juratum est autem tam ex \n",
            "\n",
            "61. sticiarium nostrum , si fuerimus extra regnum , proponentes nobis excessum ; p\n",
            "61. mendaverimus , vel , si fuerimus extra regnum , justiciarius noster non emenda\n",
            "61. obis vel justiciario nostro , si extra regnum fuerimus , predicti quatuor baro\n",
            "\n",
            "12. cutagium vel auxilium ponatur in regno nostro , nisi per commune consilium reg\n",
            "42. ceat unicuique decetero exire de regno nostro , et redire , salvo et secure , \n",
            "60. bertates quas nos concessimus in regno nostro tenendas quantum ad nos pertinet\n",
            "60. pertinet erga nostros , omnes de regno nostro , tam clerici quam laici , obser\n",
            "63. ia libera sit et quod homines in regno nostro habeant et teneant omnes prefata\n",
            "\n",
            "18. a regnum fuerimus , capitalis justiciarius noster , mittemus duos justiciarios \n",
            "61.  scilicet quod , si nos , vel justiciarius noster , vel ballivi nostri , vel al\n",
            "61.  , si fuerimus extra regnum , justiciarius noster non emendaverit infra tempus \n",
            "\n",
            "24. larius , coronatores , vel alii ballivi nostri , teneant placita corone nostre\n",
            "61. , vel justiciarius noster , vel ballivi nostri , vel aliquis de ministris nost\n",
            "\n",
            "01.  eciam omnibus liberis hominibus regni nostri , pro nobis et heredibus nostri \n",
            "12. tro , nisi per commune consilium regni nostri , nisi ad corpus nostrum redimen\n",
            "61. tem pro Deo , et ad emendacionem regni nostri , et ad melius sopiendum discord\n",
            "62. jusdem discordie , a Pascha anno regni nostri sextodecimo usque ad pacem refor\n",
            "\n",
            "20. vo contenemento suo ; et mercator eodem modo , salva mercandisa sua ; et villa\n",
            "20. alva mercandisa sua ; et villanus eodem modo amercietur salvo waynagio suo , s\n",
            "43. la esset in manu baronis ; et nos eodem modo eam tenebimus quo baro eam tenuit\n",
            "53. ndem autem respectum habebimus et eodem modo de justicia exhibenda , de forest\n",
            "\n",
            "52. disseisitus vel elongatus per nos sine legali judicio parium suorum , de terris\n",
            "52.  disseisitus fuerit vel elongatus sine legali judicio parium suorum , per Henri\n",
            "56. el libertatibus vel rebus aliis , sine legali judicio parium suorum , in Anglia\n",
            "57. isseisitus fuerit vel elongatus , sine legali judicio parium suorum , per Henri\n",
            "\n",
            "09. d ante pro eo solverint , nisi capitalis debitor monstraverit se esse quietum i\n",
            "\n",
            "03. tem heres alicujus talium fuerit infra etatem et fuerit in custodia , cum ad e\n",
            "04. stos terre hujusmodi heredis qui infra etatem fuerit , non capiat de terra her\n",
            "10.  non usuret quamdiu heres fuerit infra etatem , de quocumque teneat ; et si de\n",
            "11. beri ipsius defuncti qui fuerint infra etatem remanserint , provideantur eis n\n",
            "\n",
            "\n",
            "01. tra confirmasse , pro nobis et heredibus nostris in perpetuum quod Anglicana ec\n",
            "01. quam et nos observabimus et ab heredibus nostris in perpetuum bona fide volumus\n",
            "63. t heredibus suis , de nobis et heredibus nostris , in omnibus rebus et locis , \n",
            "\n",
            "14. secundum consilium illorum qui presentes fuerint , quamvis non omnes summoniti \n",
            "61.  si forte ipsi viginti quinque presentes fuerint , et inter se super re aliqua \n",
            "61. rmum quod major pars eorum qui presentes fuerint providerit , vel preceperit ac\n",
            "\n"
          ]
        }
      ]
    }
  ]
}